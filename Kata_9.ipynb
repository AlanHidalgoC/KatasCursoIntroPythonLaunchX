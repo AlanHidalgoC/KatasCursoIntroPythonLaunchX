{
  "cells": [
    {
      "cell_type": "markdown",
      "metadata": {},
      "source": [
        "# Ejercicio: Uso de funciones en Python"
      ]
    },
    {
      "cell_type": "markdown",
      "metadata": {},
      "source": [
        "### Ejercicio 1: Trabajar con argumentos en funciones\n",
        "\n",
        "Los argumentos requeridos en las funciones se utilizan cuando las funciones necesitan que esos argumentos funcionen correctamente. En este ejercicio, construirás un informe de combustible que requiere información de varias ubicaciones de combustible en todo el cohete.\n",
        "\n"
      ]
    },
    {
      "cell_type": "code",
      "execution_count": 1,
      "metadata": {},
      "outputs": [],
      "source": [
        "def informe_combustible(tanque1,tanque2,tanque3):\n",
        " combustible_total=(tanque1+tanque2+tanque3)/3\n",
        " return f\"\"\"Reporte de combustible⛽:\n",
        " Total de combustible: {combustible_total}%\n",
        " tanque 1: {tanque1}%\n",
        " tanque 2: {tanque2}%\n",
        " Tanque 3: {tanque3}% \n",
        "    \"\"\""
      ]
    },
    {
      "cell_type": "markdown",
      "metadata": {},
      "source": [
        "Ahora que hemos definido la función de informes, vamos a comprobarlo. Para esta misión, los tanques no están llenos:"
      ]
    },
    {
      "cell_type": "code",
      "execution_count": 2,
      "metadata": {},
      "outputs": [
        {
          "name": "stdout",
          "output_type": "stream",
          "text": [
            "Reporte de combustible⛽:\n",
            " Total de combustible: 47.0%\n",
            " tanque 1: 50%\n",
            " tanque 2: 80%\n",
            " Tanque 3: 11% \n",
            "    \n"
          ]
        }
      ],
      "source": [
        "print(informe_combustible(50,80,11))"
      ]
    },
    {
      "cell_type": "markdown",
      "metadata": {},
      "source": [
        "En lugar de simplemente crear el informe, la función también está calculando el promedio. Mejora la legibilidad extrayendo el cálculo promedio de la función en una nueva función para que el promedio se pueda hacer de forma independiente:"
      ]
    },
    {
      "cell_type": "code",
      "execution_count": 3,
      "metadata": {},
      "outputs": [],
      "source": [
        "def promedio(combustible):\n",
        " total=sum(combustible)\n",
        " tanques=len(combustible)\n",
        " return total/tanques"
      ]
    },
    {
      "cell_type": "markdown",
      "metadata": {},
      "source": [
        "Ahora actualiza la función de informes para llamando a la nueva función del promedio:\n"
      ]
    },
    {
      "cell_type": "code",
      "execution_count": 9,
      "metadata": {},
      "outputs": [
        {
          "name": "stdout",
          "output_type": "stream",
          "text": [
            "Reporte de combustible⛽:\n",
            " Total de combustible: 63.0%\n",
            " tanque 1: 50%\n",
            " tanque 2: 52%\n",
            " Tanque 3: 87% \n",
            "    \n"
          ]
        }
      ],
      "source": [
        "def informe_combustible(tanque1,tanque2,tanque3):\n",
        " return f\"\"\"Reporte de combustible⛽:\n",
        " Total de combustible: {promedio([tanque1,tanque2,tanque3])}%\n",
        " tanque 1: {tanque1}%\n",
        " tanque 2: {tanque2}%\n",
        " Tanque 3: {tanque3}% \n",
        "    \"\"\"\n",
        "print(informe_combustible(50,52,87))\n"
      ]
    },
    {
      "cell_type": "markdown",
      "metadata": {},
      "source": [
        "## Ejercicio 2: Trabajo con argumentos de palabra clave"
      ]
    },
    {
      "cell_type": "markdown",
      "metadata": {},
      "source": [
        "### Ejercicio : Trabajar con argumentos de palabras clave en funciones\n",
        "En este ejercicio, construirás un informe de cohete que requiere varias piezas de información, como el tiempo hasta el destino, el combustible a la izquierda y el nombre del destino. Comienza por crear una función que creará un informe preciso de la misión:"
      ]
    },
    {
      "cell_type": "code",
      "execution_count": 21,
      "metadata": {},
      "outputs": [
        {
          "name": "stdout",
          "output_type": "stream",
          "text": [
            "Mision chida con el destino😎: Un lugar fuera de este mundo 👻\n",
            " Tiempo total de vuelo: 2505 minutos\n",
            " Total de combustible: 25591110 litros \n"
          ]
        }
      ],
      "source": [
        "def informe_mision(hora_prelanzamiento,tiempo_vuelo,destino,tanque_externo,tanque_interno):\n",
        " return f\"\"\"Mision chida con el destino😎: {destino}\n",
        " Tiempo total de vuelo: {hora_prelanzamiento+tiempo_vuelo} minutos\n",
        " Total de combustible: {tanque_externo+tanque_interno} litros \"\"\"\n",
        "\n",
        "print(informe_mision(5,2500,\"Un lugar fuera de este mundo 👻\",25555555,35555))"
      ]
    },
    {
      "cell_type": "markdown",
      "metadata": {},
      "source": [
        "La función es problemática porque no se puede adaptar para minutos adicionales o tanques adicionales de combustible. Hazlo más flexible permitiendo cualquier número de pasos basados en el tiempo y cualquier número de tanques. En lugar de usar `*args` y `**kwargs`, aprovecha el hecho de que puedes usar cualquier nombre que desees. Asegurate que la función sea más legible mediante el uso de nombres de variables que están asociados con las entradas, como `*minutes` y `**fuel_reservoirs`:"
      ]
    },
    {
      "cell_type": "code",
      "execution_count": 22,
      "metadata": {},
      "outputs": [
        {
          "name": "stdout",
          "output_type": "stream",
          "text": [
            "Mision chida con el destino😎: Un lugar fuera de este mundo 👻\n",
            " Tiempo total de vuelo: 254125536 minutos\n",
            " Total de combustible: 25591110 litros \n"
          ]
        }
      ],
      "source": [
        "def informe_mision(destino,*minutos,**reserva_combustible):\n",
        " return f\"\"\"Mision chida con el destino😎: {destino}\n",
        " Tiempo total de vuelo: {sum(minutos)} minutos\n",
        " Total de combustible: {sum(reserva_combustible.values())} litros \"\"\"\n",
        "\n",
        "print(informe_mision(\"Un lugar fuera de este mundo 👻\",12,254125523,1,interno=25555555,externo=35555))\n",
        "\n"
      ]
    },
    {
      "cell_type": "markdown",
      "metadata": {},
      "source": [
        "Debido a que el combustible que queda en los tanques es específico de cada tanque, actualiza la función para usar el nombre de cada tanque en el informe:"
      ]
    },
    {
      "cell_type": "code",
      "execution_count": 34,
      "metadata": {},
      "outputs": [
        {
          "name": "stdout",
          "output_type": "stream",
          "text": [
            "Mision chida con el destino😎: Un lugar fuera de este mundo 👻\n",
            " Tiempo total de vuelo: 254125536 minutos\n",
            " Total de combustible: 25591110 litros \n",
            " El tanque interno tiene: 25555555 litros\n",
            "El tanque externo tiene: 35555 litros\n",
            "\n"
          ]
        }
      ],
      "source": [
        "def informe_mision(destino,*minutos,**reserva_combustible):\n",
        " informe = f\"\"\"Mision chida con el destino😎: {destino}\n",
        " Tiempo total de vuelo: {sum(minutos)} minutos\n",
        " Total de combustible: {sum(reserva_combustible.values())} litros \n",
        " \"\"\"\n",
        " \n",
        " for tanque,litros in reserva_combustible.items():\n",
        "     informe+=f\"El tanque {tanque} tiene: {litros} litros\\n\"\n",
        " return informe\n",
        "\n",
        "print(informe_mision(\"Un lugar fuera de este mundo 👻\",12,254125523,1,interno=25555555,externo=35555))"
      ]
    }
  ],
  "metadata": {
    "interpreter": {
      "hash": "205095b8b86ea82a021a8fc2ffba2b3bc9f8d0be25999901963b225939f75778"
    },
    "kernelspec": {
      "display_name": "Python 3.8.10 64-bit ('tmp': conda)",
      "name": "python3"
    },
    "language_info": {
      "codemirror_mode": {
        "name": "ipython",
        "version": 3
      },
      "file_extension": ".py",
      "mimetype": "text/x-python",
      "name": "python",
      "nbconvert_exporter": "python",
      "pygments_lexer": "ipython3",
      "version": "3.10.2"
    },
    "nteract": {
      "version": "nteract-front-end@1.0.0"
    },
    "orig_nbformat": 4
  },
  "nbformat": 4,
  "nbformat_minor": 2
}
